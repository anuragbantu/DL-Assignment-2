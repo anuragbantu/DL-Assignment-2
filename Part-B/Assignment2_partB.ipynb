{
  "nbformat": 4,
  "nbformat_minor": 0,
  "metadata": {
    "colab": {
      "provenance": [],
      "gpuType": "T4",
      "include_colab_link": true
    },
    "kernelspec": {
      "name": "python3",
      "display_name": "Python 3"
    },
    "language_info": {
      "name": "python"
    },
    "accelerator": "GPU"
  },
  "cells": [
    {
      "cell_type": "markdown",
      "metadata": {
        "id": "view-in-github",
        "colab_type": "text"
      },
      "source": [
        "<a href=\"https://colab.research.google.com/github/anuragbantu/DL-Assignment-2/blob/main/Assignment2_partB.ipynb\" target=\"_parent\"><img src=\"https://colab.research.google.com/assets/colab-badge.svg\" alt=\"Open In Colab\"/></a>"
      ]
    },
    {
      "cell_type": "markdown",
      "source": [
        "## 1. Imports and Setup\n",
        "\n",
        "Import all required libraries for data manipulation, model building, and training.\n"
      ],
      "metadata": {
        "id": "cqTndiboUqcr"
      }
    },
    {
      "cell_type": "code",
      "execution_count": 1,
      "metadata": {
        "id": "8cpsLcIeHCHk"
      },
      "outputs": [],
      "source": [
        "import numpy as np\n",
        "import torch\n",
        "import torch.nn as nn\n",
        "import torch.nn.functional as F\n",
        "import torchvision.transforms as transforms\n",
        "from torchvision.datasets import ImageFolder\n",
        "from torch.utils.data import DataLoader, random_split\n"
      ]
    },
    {
      "cell_type": "code",
      "source": [
        "from google.colab import drive\n",
        "drive.mount('/content/drive')"
      ],
      "metadata": {
        "colab": {
          "base_uri": "https://localhost:8080/"
        },
        "id": "K7jnzYYjQwcc",
        "outputId": "96f0b507-ab77-476e-d536-ff3b8dcda1af"
      },
      "execution_count": 2,
      "outputs": [
        {
          "output_type": "stream",
          "name": "stdout",
          "text": [
            "Mounted at /content/drive\n"
          ]
        }
      ]
    },
    {
      "cell_type": "markdown",
      "source": [
        "## 2. Loading the Efficientnet model with pretrained weights"
      ],
      "metadata": {
        "id": "LsupyAliUyCh"
      }
    },
    {
      "cell_type": "code",
      "source": [
        "from torchvision.models import efficientnet_v2_s\n",
        "\n",
        "model = efficientnet_v2_s(pretrained=True)\n",
        "\n"
      ],
      "metadata": {
        "id": "abkWfrKBHb2j",
        "colab": {
          "base_uri": "https://localhost:8080/"
        },
        "outputId": "c5740799-41dd-4b4b-dba0-9580dfeb31f0"
      },
      "execution_count": 3,
      "outputs": [
        {
          "output_type": "stream",
          "name": "stderr",
          "text": [
            "/usr/local/lib/python3.11/dist-packages/torchvision/models/_utils.py:208: UserWarning: The parameter 'pretrained' is deprecated since 0.13 and may be removed in the future, please use 'weights' instead.\n",
            "  warnings.warn(\n",
            "/usr/local/lib/python3.11/dist-packages/torchvision/models/_utils.py:223: UserWarning: Arguments other than a weight enum or `None` for 'weights' are deprecated since 0.13 and may be removed in the future. The current behavior is equivalent to passing `weights=EfficientNet_V2_S_Weights.IMAGENET1K_V1`. You can also use `weights=EfficientNet_V2_S_Weights.DEFAULT` to get the most up-to-date weights.\n",
            "  warnings.warn(msg)\n",
            "Downloading: \"https://download.pytorch.org/models/efficientnet_v2_s-dd5fe13b.pth\" to /root/.cache/torch/hub/checkpoints/efficientnet_v2_s-dd5fe13b.pth\n",
            "100%|██████████| 82.7M/82.7M [00:00<00:00, 121MB/s]\n"
          ]
        }
      ]
    },
    {
      "cell_type": "markdown",
      "source": [
        "## 3. Data Preprocessing\n",
        "\n",
        "Define transform for data preprocessing. Resize input images to 224 x 224 since this is the size expected by the EfficientNet model."
      ],
      "metadata": {
        "id": "HEQTsbtrVDWQ"
      }
    },
    {
      "cell_type": "code",
      "source": [
        "from torchvision import transforms\n",
        "\n",
        "transform = transforms.Compose([\n",
        "    transforms.Resize((224, 224)),   # match expected input size\n",
        "    transforms.ToTensor(),\n",
        "    transforms.Normalize([0.485, 0.456, 0.406],  # ImageNet mean\n",
        "                         [0.229, 0.224, 0.225])  # ImageNet std\n",
        "])\n"
      ],
      "metadata": {
        "id": "GKNouf5RKRjh"
      },
      "execution_count": 5,
      "outputs": []
    },
    {
      "cell_type": "markdown",
      "source": [
        "## 4. Data Loading and Train/Validation Split\n",
        "\n",
        "Specify the dataset paths and load the image dataset using `ImageFolder`."
      ],
      "metadata": {
        "id": "H21o_3giVPmL"
      }
    },
    {
      "cell_type": "code",
      "source": [
        "#if running on google colab, use this cell\n",
        "\n",
        "import os\n",
        "import zipfile\n",
        "\n",
        "zip_path = '/content/drive/MyDrive/nature_12K.zip'\n",
        "\n",
        "extract_path = '/content/iNaturalist'\n",
        "with zipfile.ZipFile(zip_path, 'r') as zip_ref:\n",
        "    zip_ref.extractall(extract_path)\n",
        "\n",
        "print(\"Dataset extracted to:\", extract_path)"
      ],
      "metadata": {
        "colab": {
          "base_uri": "https://localhost:8080/"
        },
        "id": "oWkUMl5sIU6P",
        "outputId": "061f5fe8-946f-4a2a-991d-3837a90f541d"
      },
      "execution_count": 4,
      "outputs": [
        {
          "output_type": "stream",
          "name": "stdout",
          "text": [
            "Dataset extracted to: /content/iNaturalist\n"
          ]
        }
      ]
    },
    {
      "cell_type": "code",
      "source": [
        "#load the data\n",
        "train_dir = '/content/iNaturalist/inaturalist_12K/train'\n",
        "test_dir = '/content/iNaturalist/inaturalist_12K/val'\n",
        "\n",
        "train_dataset = ImageFolder(root=train_dir, transform=transform)\n",
        "test_dataset = ImageFolder(root=test_dir, transform=transform)\n"
      ],
      "metadata": {
        "id": "TOdvYHYYInqt"
      },
      "execution_count": 6,
      "outputs": []
    },
    {
      "cell_type": "markdown",
      "source": [
        "## 5. Model Modification\n",
        "\n",
        "Adapt the pre-trained EfficientNet model to the iNaturalist dataset by modifying the final classifier layer for 10 classes."
      ],
      "metadata": {
        "id": "aLaWFm78WX3b"
      }
    },
    {
      "cell_type": "code",
      "source": [
        "# Modify final layer to match number of classes\n",
        "num_classes = len(train_dataset.classes)\n",
        "model.classifier[1] = nn.Linear(model.classifier[1].in_features, num_classes)\n"
      ],
      "metadata": {
        "id": "6c-hUHMTKpPu"
      },
      "execution_count": 7,
      "outputs": []
    },
    {
      "cell_type": "code",
      "source": [
        "# Load the full training dataset\n",
        "full_train_dataset = ImageFolder(root=train_dir, transform=transform)\n",
        "\n",
        "# Calculate split sizes\n",
        "val_size = int(0.2 * len(full_train_dataset))\n",
        "train_size = len(full_train_dataset) - val_size\n",
        "\n",
        "# Split the dataset\n",
        "train_dataset, val_dataset = random_split(full_train_dataset, [train_size, val_size])\n",
        "\n",
        "# Loaders\n",
        "train_loader = DataLoader(train_dataset, batch_size=32, shuffle=True, num_workers=2)\n",
        "val_loader = DataLoader(val_dataset, batch_size=32, shuffle=False, num_workers=2)\n",
        "\n",
        "# Load the test set\n",
        "test_dataset = ImageFolder(root=test_dir, transform=transform)\n",
        "test_loader = DataLoader(test_dataset, batch_size=32, shuffle=False, num_workers=2)"
      ],
      "metadata": {
        "id": "tMdbtX_NK1Ct"
      },
      "execution_count": 8,
      "outputs": []
    },
    {
      "cell_type": "code",
      "source": [
        "device = torch.device(\"cuda\" if torch.cuda.is_available() else \"cpu\")\n",
        "model = model.to(device)\n"
      ],
      "metadata": {
        "id": "Wt8_m6z7LAFZ"
      },
      "execution_count": 9,
      "outputs": []
    },
    {
      "cell_type": "markdown",
      "source": [
        "## 6. Freezing Pretrained Layers\n",
        "\n",
        "Freeze early convolutional blocks to retain pre-trained features while allowing later blocks and classifier layers to fine-tune on the new dataset."
      ],
      "metadata": {
        "id": "bh6-5YNHVzIP"
      }
    },
    {
      "cell_type": "code",
      "source": [
        "for name, child in model.features.named_children():\n",
        "    if int(name) < 4:  # Freeze blocks 0 to 3\n",
        "        for param in child.parameters():\n",
        "            param.requires_grad = False\n",
        "    else:\n",
        "        for param in child.parameters():\n",
        "            param.requires_grad = True\n",
        "\n",
        "for param in model.classifier.parameters():\n",
        "    param.requires_grad = True\n"
      ],
      "metadata": {
        "id": "ujsFT_mY6u-v"
      },
      "execution_count": 10,
      "outputs": []
    },
    {
      "cell_type": "code",
      "source": [
        "import torch\n",
        "\n",
        "#criterion = nn.CrossEntropyLoss()\n",
        "#optimizer = torch.optim.Adam(model.parameters(), lr=1e-4)\n"
      ],
      "metadata": {
        "id": "5XVIhOQoLGbU"
      },
      "execution_count": 11,
      "outputs": []
    },
    {
      "cell_type": "markdown",
      "source": [
        "## 7. Define Loss Function and Optimizer\n",
        "\n",
        "Use cross-entropy loss for classification and Adam optimizer for training only the unfrozen parameters."
      ],
      "metadata": {
        "id": "U_bNbavmWneH"
      }
    },
    {
      "cell_type": "code",
      "source": [
        "#for freezing use this\n",
        "criterion = nn.CrossEntropyLoss()\n",
        "optimizer = torch.optim.Adam(filter(lambda p: p.requires_grad, model.parameters()), lr=1e-4)\n"
      ],
      "metadata": {
        "id": "QHbsRpxa67se"
      },
      "execution_count": 12,
      "outputs": []
    },
    {
      "cell_type": "code",
      "source": [
        "import copy\n",
        "\n",
        "# Save the initial state of the frozen layers (just one block to check)\n",
        "initial_weights = copy.deepcopy(model.features[0][0].weight.data.clone())\n"
      ],
      "metadata": {
        "id": "eKqcS10T9mjl"
      },
      "execution_count": 13,
      "outputs": []
    },
    {
      "cell_type": "markdown",
      "source": [
        "## 8. Training and Validation Loop\n",
        "\n",
        "Train the model for multiple epochs while tracking loss and accuracy on both training and validation sets."
      ],
      "metadata": {
        "id": "c9RIVpWHWvKh"
      }
    },
    {
      "cell_type": "code",
      "source": [
        "#Training loop\n",
        "epochs = 5\n",
        "for epoch in range(epochs):\n",
        "    model.train()\n",
        "    running_loss = 0.0\n",
        "    correct_train = 0\n",
        "    total_train = 0\n",
        "\n",
        "    for inputs, labels in train_loader:\n",
        "        inputs, labels = inputs.to(device), labels.to(device)\n",
        "\n",
        "        optimizer.zero_grad()\n",
        "        outputs = model(inputs)\n",
        "        loss = criterion(outputs, labels)\n",
        "        loss.backward()\n",
        "        optimizer.step()\n",
        "\n",
        "        running_loss += loss.item()\n",
        "        _, preds = torch.max(outputs, 1)\n",
        "        total_train += labels.size(0)\n",
        "        correct_train += (preds == labels).sum().item()\n",
        "\n",
        "    train_acc = 100 * correct_train / total_train\n",
        "    train_loss = running_loss / len(train_loader)\n",
        "\n",
        "    # --- Validation ---\n",
        "    model.eval()\n",
        "    correct_val = 0\n",
        "    total_val = 0\n",
        "\n",
        "    with torch.no_grad():\n",
        "        for val_inputs, val_labels in val_loader:\n",
        "            val_inputs, val_labels = val_inputs.to(device), val_labels.to(device)\n",
        "            val_outputs = model(val_inputs)\n",
        "            _, val_preds = torch.max(val_outputs, 1)\n",
        "            total_val += val_labels.size(0)\n",
        "            correct_val += (val_preds == val_labels).sum().item()\n",
        "\n",
        "    val_acc = 100 * correct_val / total_val\n",
        "\n",
        "    print(f\"Epoch {epoch+1}/{epochs}\")\n",
        "    print(f\"  Training Loss: {train_loss:.4f} | Training Accuracy: {train_acc:.2f}%\")\n",
        "    print(f\"  Validation Accuracy: {val_acc:.2f}%\\n\")"
      ],
      "metadata": {
        "colab": {
          "base_uri": "https://localhost:8080/"
        },
        "id": "siahRe1SLSo_",
        "outputId": "b5e90367-1226-4323-8940-2d23cf848677"
      },
      "execution_count": 14,
      "outputs": [
        {
          "output_type": "stream",
          "name": "stdout",
          "text": [
            "Epoch 1/5\n",
            "  Training Loss: 1.0109 | Training Accuracy: 69.78%\n",
            "  Validation Accuracy: 86.24%\n",
            "\n",
            "Epoch 2/5\n",
            "  Training Loss: 0.3818 | Training Accuracy: 88.58%\n",
            "  Validation Accuracy: 86.29%\n",
            "\n",
            "Epoch 3/5\n",
            "  Training Loss: 0.2027 | Training Accuracy: 94.00%\n",
            "  Validation Accuracy: 86.64%\n",
            "\n",
            "Epoch 4/5\n",
            "  Training Loss: 0.1249 | Training Accuracy: 96.20%\n",
            "  Validation Accuracy: 87.44%\n",
            "\n",
            "Epoch 5/5\n",
            "  Training Loss: 0.0922 | Training Accuracy: 97.31%\n",
            "  Validation Accuracy: 86.79%\n",
            "\n"
          ]
        }
      ]
    },
    {
      "cell_type": "code",
      "source": [
        "updated_weights = model.features[0][0].weight.data\n",
        "# Compare\n",
        "if torch.equal(initial_weights, updated_weights):\n",
        "    print(\"Frozen layer weights have not changed.\")\n",
        "else:\n",
        "    print(\"Frozen layer weights have changed\")\n",
        "# Compare"
      ],
      "metadata": {
        "colab": {
          "base_uri": "https://localhost:8080/"
        },
        "id": "2L_li55D9uR5",
        "outputId": "e0544754-6f5f-4956-9c24-fcd7bd37c973"
      },
      "execution_count": 15,
      "outputs": [
        {
          "output_type": "stream",
          "name": "stdout",
          "text": [
            "Frozen layer weights have not changed.\n"
          ]
        }
      ]
    },
    {
      "cell_type": "markdown",
      "source": [
        "## 9. Final Evaluation on Test Set\n",
        "\n",
        "Evaluate the trained model on the held-out test dataset and report test accuracy."
      ],
      "metadata": {
        "id": "Mzx8lXiFW2_q"
      }
    },
    {
      "cell_type": "code",
      "source": [
        "# --- Evaluate on test set ---\n",
        "model.eval()\n",
        "correct_test = 0\n",
        "total_test = 0\n",
        "\n",
        "with torch.no_grad():\n",
        "    for test_inputs, test_labels in test_loader:\n",
        "        test_inputs, test_labels = test_inputs.to(device), test_labels.to(device)\n",
        "        test_outputs = model(test_inputs)\n",
        "        _, test_preds = torch.max(test_outputs, 1)\n",
        "        total_test += test_labels.size(0)\n",
        "        correct_test += (test_preds == test_labels).sum().item()\n",
        "\n",
        "test_accuracy = 100 * correct_test / total_test\n",
        "print(f\"Test Accuracy: {test_accuracy:.2f}%\")"
      ],
      "metadata": {
        "colab": {
          "base_uri": "https://localhost:8080/"
        },
        "id": "iyBqRhVmOnqq",
        "outputId": "d4b57df0-0fd7-49c0-d643-db3642796011"
      },
      "execution_count": 17,
      "outputs": [
        {
          "output_type": "stream",
          "name": "stdout",
          "text": [
            "Test Accuracy: 85.45%\n"
          ]
        }
      ]
    },
    {
      "cell_type": "code",
      "source": [
        "#for epochs = 5\n",
        "#without freezing test acc = 84.85\n",
        "#with freezing all layers except last = 70.1\n",
        "#with freezing upto 4 layers = 85.45\n",
        "#only pre trained model without finetuning on naturalist = 13.00"
      ],
      "metadata": {
        "id": "qC8YCcrCQjm1"
      },
      "execution_count": 18,
      "outputs": []
    },
    {
      "cell_type": "code",
      "source": [],
      "metadata": {
        "id": "phVszdVtUBRz"
      },
      "execution_count": 18,
      "outputs": []
    }
  ]
}
