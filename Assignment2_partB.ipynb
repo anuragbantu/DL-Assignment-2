{
  "nbformat": 4,
  "nbformat_minor": 0,
  "metadata": {
    "colab": {
      "provenance": [],
      "gpuType": "T4",
      "mount_file_id": "1Gesyk6ZrAZ9ta5W17pwXBIj1Xfj53XH4",
      "authorship_tag": "ABX9TyNyVHwLnL87lysheEGbqACE",
      "include_colab_link": true
    },
    "kernelspec": {
      "name": "python3",
      "display_name": "Python 3"
    },
    "language_info": {
      "name": "python"
    },
    "accelerator": "GPU"
  },
  "cells": [
    {
      "cell_type": "markdown",
      "metadata": {
        "id": "view-in-github",
        "colab_type": "text"
      },
      "source": [
        "<a href=\"https://colab.research.google.com/github/anuragbantu/DL-Assignment-2/blob/main/Assignment2_partB.ipynb\" target=\"_parent\"><img src=\"https://colab.research.google.com/assets/colab-badge.svg\" alt=\"Open In Colab\"/></a>"
      ]
    },
    {
      "cell_type": "code",
      "execution_count": null,
      "metadata": {
        "id": "8cpsLcIeHCHk"
      },
      "outputs": [],
      "source": [
        "import numpy as np\n",
        "import torch\n",
        "import torch.nn as nn\n",
        "import torch.nn.functional as F\n",
        "import torchvision.transforms as transforms\n",
        "from torchvision.datasets import ImageFolder\n",
        "from torch.utils.data import DataLoader, random_split\n"
      ]
    },
    {
      "cell_type": "code",
      "source": [
        "from torchvision.models import efficientnet_v2_s\n",
        "\n",
        "model = efficientnet_v2_s(pretrained=True)\n",
        "\n"
      ],
      "metadata": {
        "id": "abkWfrKBHb2j"
      },
      "execution_count": null,
      "outputs": []
    },
    {
      "cell_type": "code",
      "source": [
        "#if running on google colab, use this cell\n",
        "\n",
        "import os\n",
        "import zipfile\n",
        "\n",
        "zip_path = '/content/drive/MyDrive/nature_12K.zip'\n",
        "\n",
        "extract_path = '/content/iNaturalist'\n",
        "with zipfile.ZipFile(zip_path, 'r') as zip_ref:\n",
        "    zip_ref.extractall(extract_path)\n",
        "\n",
        "print(\"Dataset extracted to:\", extract_path)"
      ],
      "metadata": {
        "colab": {
          "base_uri": "https://localhost:8080/"
        },
        "id": "oWkUMl5sIU6P",
        "outputId": "abea19fa-e045-41d5-92ff-8d9505208421"
      },
      "execution_count": null,
      "outputs": [
        {
          "output_type": "stream",
          "name": "stdout",
          "text": [
            "Dataset extracted to: /content/iNaturalist\n"
          ]
        }
      ]
    },
    {
      "cell_type": "code",
      "source": [
        "from torchvision import transforms\n",
        "\n",
        "transform = transforms.Compose([\n",
        "    transforms.Resize((224, 224)),   # match expected input size\n",
        "    transforms.ToTensor(),\n",
        "    transforms.Normalize([0.485, 0.456, 0.406],  # ImageNet mean\n",
        "                         [0.229, 0.224, 0.225])  # ImageNet std\n",
        "])\n"
      ],
      "metadata": {
        "id": "GKNouf5RKRjh"
      },
      "execution_count": null,
      "outputs": []
    },
    {
      "cell_type": "code",
      "source": [
        "#load the data\n",
        "train_dir = '/content/iNaturalist/inaturalist_12K/train'\n",
        "test_dir = '/content/iNaturalist/inaturalist_12K/val'\n",
        "\n",
        "train_dataset = ImageFolder(root=train_dir, transform=transform)\n",
        "test_dataset = ImageFolder(root=test_dir, transform=transform)\n"
      ],
      "metadata": {
        "id": "TOdvYHYYInqt"
      },
      "execution_count": null,
      "outputs": []
    },
    {
      "cell_type": "code",
      "source": [
        "# Modify final layer to match number of classes\n",
        "num_classes = len(train_dataset.classes)\n",
        "model.classifier[1] = nn.Linear(model.classifier[1].in_features, num_classes)\n"
      ],
      "metadata": {
        "id": "6c-hUHMTKpPu"
      },
      "execution_count": null,
      "outputs": []
    },
    {
      "cell_type": "code",
      "source": [
        "# Load the full training dataset\n",
        "full_train_dataset = ImageFolder(root=train_dir, transform=transform)\n",
        "\n",
        "# Calculate split sizes\n",
        "val_size = int(0.2 * len(full_train_dataset))\n",
        "train_size = len(full_train_dataset) - val_size\n",
        "\n",
        "# Split the dataset\n",
        "train_dataset, val_dataset = random_split(full_train_dataset, [train_size, val_size])\n",
        "\n",
        "# Loaders\n",
        "train_loader = DataLoader(train_dataset, batch_size=32, shuffle=True, num_workers=2)\n",
        "val_loader = DataLoader(val_dataset, batch_size=32, shuffle=False, num_workers=2)\n",
        "\n",
        "# Load the test set\n",
        "test_dataset = ImageFolder(root=test_dir, transform=transform)\n",
        "test_loader = DataLoader(test_dataset, batch_size=32, shuffle=False, num_workers=2)"
      ],
      "metadata": {
        "id": "tMdbtX_NK1Ct"
      },
      "execution_count": null,
      "outputs": []
    },
    {
      "cell_type": "code",
      "source": [
        "device = torch.device(\"cuda\" if torch.cuda.is_available() else \"cpu\")\n",
        "model = model.to(device)\n"
      ],
      "metadata": {
        "id": "Wt8_m6z7LAFZ"
      },
      "execution_count": null,
      "outputs": []
    },
    {
      "cell_type": "code",
      "source": [
        "for name, child in model.features.named_children():\n",
        "    if int(name) < 4:  # Freeze blocks 0 to 3\n",
        "        for param in child.parameters():\n",
        "            param.requires_grad = False\n",
        "    else:\n",
        "        for param in child.parameters():\n",
        "            param.requires_grad = True\n",
        "\n",
        "for param in model.classifier.parameters():\n",
        "    param.requires_grad = True\n"
      ],
      "metadata": {
        "id": "ujsFT_mY6u-v"
      },
      "execution_count": null,
      "outputs": []
    },
    {
      "cell_type": "code",
      "source": [
        "import torch\n",
        "\n",
        "#criterion = nn.CrossEntropyLoss()\n",
        "#optimizer = torch.optim.Adam(model.parameters(), lr=1e-4)\n"
      ],
      "metadata": {
        "id": "5XVIhOQoLGbU"
      },
      "execution_count": null,
      "outputs": []
    },
    {
      "cell_type": "code",
      "source": [
        "#for freezing use this\n",
        "criterion = nn.CrossEntropyLoss()\n",
        "optimizer = torch.optim.Adam(filter(lambda p: p.requires_grad, model.parameters()), lr=1e-4)\n"
      ],
      "metadata": {
        "id": "QHbsRpxa67se"
      },
      "execution_count": null,
      "outputs": []
    },
    {
      "cell_type": "code",
      "source": [
        "import copy\n",
        "\n",
        "# Save the initial state of the frozen layers (just one block to check)\n",
        "initial_weights = copy.deepcopy(model.features[0][0].weight.data.clone())\n"
      ],
      "metadata": {
        "id": "eKqcS10T9mjl"
      },
      "execution_count": null,
      "outputs": []
    },
    {
      "cell_type": "code",
      "source": [
        "#Training loop\n",
        "epochs = 5\n",
        "for epoch in range(epochs):\n",
        "    model.train()\n",
        "    running_loss = 0.0\n",
        "    correct_train = 0\n",
        "    total_train = 0\n",
        "\n",
        "    for inputs, labels in train_loader:\n",
        "        inputs, labels = inputs.to(device), labels.to(device)\n",
        "\n",
        "        optimizer.zero_grad()\n",
        "        outputs = model(inputs)\n",
        "        loss = criterion(outputs, labels)\n",
        "        loss.backward()\n",
        "        optimizer.step()\n",
        "\n",
        "        running_loss += loss.item()\n",
        "        _, preds = torch.max(outputs, 1)\n",
        "        total_train += labels.size(0)\n",
        "        correct_train += (preds == labels).sum().item()\n",
        "\n",
        "    train_acc = 100 * correct_train / total_train\n",
        "    train_loss = running_loss / len(train_loader)\n",
        "\n",
        "    # --- Validation ---\n",
        "    model.eval()\n",
        "    correct_val = 0\n",
        "    total_val = 0\n",
        "\n",
        "    with torch.no_grad():\n",
        "        for val_inputs, val_labels in val_loader:\n",
        "            val_inputs, val_labels = val_inputs.to(device), val_labels.to(device)\n",
        "            val_outputs = model(val_inputs)\n",
        "            _, val_preds = torch.max(val_outputs, 1)\n",
        "            total_val += val_labels.size(0)\n",
        "            correct_val += (val_preds == val_labels).sum().item()\n",
        "\n",
        "    val_acc = 100 * correct_val / total_val\n",
        "\n",
        "    print(f\"Epoch {epoch+1}/{epochs}\")\n",
        "    print(f\"  Training Loss: {train_loss:.4f} | Training Accuracy: {train_acc:.2f}%\")\n",
        "    print(f\"  Validation Accuracy: {val_acc:.2f}%\\n\")"
      ],
      "metadata": {
        "colab": {
          "base_uri": "https://localhost:8080/"
        },
        "id": "siahRe1SLSo_",
        "outputId": "e846e49a-6f18-4fa9-ec57-75477af4bb45"
      },
      "execution_count": null,
      "outputs": [
        {
          "output_type": "stream",
          "name": "stdout",
          "text": [
            "Epoch 1/5\n",
            "  Training Loss: 2.0342 | Training Accuracy: 39.51%\n",
            "  Validation Accuracy: 61.23%\n",
            "\n",
            "Epoch 2/5\n",
            "  Training Loss: 1.6230 | Training Accuracy: 61.64%\n",
            "  Validation Accuracy: 66.28%\n",
            "\n",
            "Epoch 3/5\n",
            "  Training Loss: 1.3926 | Training Accuracy: 65.08%\n",
            "  Validation Accuracy: 67.28%\n",
            "\n",
            "Epoch 4/5\n",
            "  Training Loss: 1.2613 | Training Accuracy: 65.44%\n",
            "  Validation Accuracy: 69.03%\n",
            "\n",
            "Epoch 5/5\n",
            "  Training Loss: 1.1766 | Training Accuracy: 66.89%\n",
            "  Validation Accuracy: 69.78%\n",
            "\n"
          ]
        }
      ]
    },
    {
      "cell_type": "code",
      "source": [
        "updated_weights = model.features[0][0].weight.data\n",
        "# Compare\n",
        "if torch.equal(initial_weights, updated_weights):\n",
        "    print(\"Frozen layer weights have not changed.\")\n",
        "else:\n",
        "    print(\"Frozen layer weights have changed\")\n",
        "# Compare"
      ],
      "metadata": {
        "colab": {
          "base_uri": "https://localhost:8080/"
        },
        "id": "2L_li55D9uR5",
        "outputId": "ef4bd11d-1d45-4d7b-e312-3e064e98a16d"
      },
      "execution_count": null,
      "outputs": [
        {
          "output_type": "stream",
          "name": "stdout",
          "text": [
            "Frozen layer weights have not changed.\n"
          ]
        }
      ]
    },
    {
      "cell_type": "code",
      "source": [
        "#replace validation set with test in the training loop?"
      ],
      "metadata": {
        "id": "Gz7NdoH3Lwx8"
      },
      "execution_count": null,
      "outputs": []
    },
    {
      "cell_type": "code",
      "source": [
        "# --- Evaluate on test set ---\n",
        "model.eval()\n",
        "correct_test = 0\n",
        "total_test = 0\n",
        "\n",
        "with torch.no_grad():\n",
        "    for test_inputs, test_labels in test_loader:\n",
        "        test_inputs, test_labels = test_inputs.to(device), test_labels.to(device)\n",
        "        test_outputs = model(test_inputs)\n",
        "        _, test_preds = torch.max(test_outputs, 1)\n",
        "        total_test += test_labels.size(0)\n",
        "        correct_test += (test_preds == test_labels).sum().item()\n",
        "\n",
        "test_accuracy = 100 * correct_test / total_test\n",
        "print(f\"Test Accuracy: {test_accuracy:.2f}%\")"
      ],
      "metadata": {
        "colab": {
          "base_uri": "https://localhost:8080/"
        },
        "id": "iyBqRhVmOnqq",
        "outputId": "920b9d5c-dcb2-47a6-ac9f-8171711afb5d"
      },
      "execution_count": null,
      "outputs": [
        {
          "output_type": "stream",
          "name": "stdout",
          "text": [
            "Test Accuracy: 70.10%\n"
          ]
        }
      ]
    },
    {
      "cell_type": "code",
      "source": [
        "#for epochs = 5\n",
        "#without freezing test acc = 84.85\n",
        "#with freezing all layers except last = 70.1\n",
        "#only pre trained model without finetuning on naturalist = 13.00"
      ],
      "metadata": {
        "id": "qC8YCcrCQjm1"
      },
      "execution_count": null,
      "outputs": []
    },
    {
      "cell_type": "code",
      "source": [],
      "metadata": {
        "id": "phVszdVtUBRz"
      },
      "execution_count": null,
      "outputs": []
    }
  ]
}